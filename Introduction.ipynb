{
 "cells": [
  {
   "cell_type": "code",
   "execution_count": null,
   "metadata": {},
   "outputs": [],
   "source": [
    "system IDE (Integrated Develeopment Environment) ==> IDLE/pycharm/jupyter \n",
    "https://www.python.org/downloads/\n",
    " \n",
    "\n",
    "Github / Git ==> Version controlled storage\n",
    "https://github.com/\n",
    "Storage + version control + sharing + code checking\n",
    "\n",
    "\n",
    "Hackerrank.com ==> coding platform\n",
    "signup\n",
    "python \n",
    "input output how write code\n",
    "\n",
    "\n",
    "9.45 pm IST - 10.30 pm - 10.45\n",
    "weekday \n",
    "45 to 50 hrs\n",
    "\n",
    "topic and syllabus\n",
    "\n",
    "task ==> 5 to 10 tasks \n",
    "Test (3 test)\n",
    "Project ==> 3 to 6 \n",
    "100-120 pgms\n",
    "\n",
    "\n"
   ]
  }
 ],
 "metadata": {
  "kernelspec": {
   "display_name": "Python 3",
   "language": "python",
   "name": "python3"
  },
  "language_info": {
   "codemirror_mode": {
    "name": "ipython",
    "version": 3
   },
   "file_extension": ".py",
   "mimetype": "text/x-python",
   "name": "python",
   "nbconvert_exporter": "python",
   "pygments_lexer": "ipython3",
   "version": "3.7.6"
  }
 },
 "nbformat": 4,
 "nbformat_minor": 4
}
