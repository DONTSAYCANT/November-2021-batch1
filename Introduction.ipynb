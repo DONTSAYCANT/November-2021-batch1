{
 "cells": [
  {
   "cell_type": "code",
   "execution_count": null,
   "metadata": {},
   "outputs": [],
   "source": [
    "system IDE (Integrated Develeopment Environment) ==> IDLE/pycharm/jupyter \n",
    "https://www.python.org/downloads/\n",
    " \n",
    "\n",
    "Github / Git ==> Version controlled storage\n",
    "https://github.com/\n",
    "Storage + version control + sharing + code checking\n",
    "\n",
    "\n",
    "Hackerrank.com ==> coding platform\n",
    "signup\n",
    "python \n",
    "input output how write code\n",
    "\n",
    "\n",
    "9.45 pm IST - 10.30 pm - 10.45\n",
    "weekday \n",
    "45 to 50 hrs\n",
    "\n",
    "topic and syllabus\n",
    "\n",
    "task ==> 5 to 10 tasks \n",
    "Test (3 test)\n",
    "Project ==> 3 to 6 \n",
    "100-120 pgms\n",
    "\n",
    "\n"
   ]
  },
  {
   "cell_type": "code",
   "execution_count": null,
   "metadata": {},
   "outputs": [],
   "source": [
    "why python is important ? or famous ?\n",
    "Variable\n",
    "datatype\n",
    "data structure\n",
    "operator\n",
    "function\n",
    "keyword\n",
    "inbuilt function\n",
    "library"
   ]
  },
  {
   "cell_type": "code",
   "execution_count": null,
   "metadata": {},
   "outputs": [],
   "source": [
    "#What's programming ?\n",
    "\n",
    "programming ===> automating regular activities \n",
    "\n",
    "#why python is famous\n",
    "\n",
    "High level object oriented ===> java javascript go python\n",
    "Simple to learn  ===> python, \n",
    "platform independent ==> most of the language\n",
    "Web development ==> heml/css/ php as backend, nodejs python with Django Flask framework\n",
    "Large library but simple to use ==> ML DL RL DS / R\n",
    "Testing ===> automation ==> selenium cucc ==> python java\n",
    "RPA \n",
    "Devops \n",
    "Cloudops ==> bogo3\n",
    "\n",
    "\n",
    "#programming terms"
   ]
  },
  {
   "cell_type": "code",
   "execution_count": null,
   "metadata": {},
   "outputs": [],
   "source": [
    "int variable = 10; #c language\n",
    "\n",
    "variable = 10 #python\n",
    "\n",
    "{\n",
    "    \n",
    "    \n",
    "    \n",
    "}\n",
    "\n",
    "Indentation\n",
    "\n",
    "#100 line\n",
    "\n",
    "#60-70 lines\n"
   ]
  },
  {
   "cell_type": "code",
   "execution_count": null,
   "metadata": {},
   "outputs": [],
   "source": [
    "Variable  ===> Storage container for data \n",
    "\n",
    "\n",
    "datatype  ===> Type of data int, float, True False ==> boolean, \"hello\", \"Hai\", \"welcome\", \"python\", complex\n",
    "string ==> \" \" ' ' ===> Global data type\n",
    "\n",
    "data structure ===> storing mechanism for multiple vlaues\n",
    "operator  ==> arithmetic assignment logical operato comparison operator\n",
    "\n",
    "keyword ==> Reserved words \n",
    "https://realpython.com/python-keywords/\n",
    "    \n",
    "    \n",
    "function\n",
    "\n",
    "inbuilt function\n",
    "library"
   ]
  },
  {
   "cell_type": "code",
   "execution_count": 1,
   "metadata": {},
   "outputs": [
    {
     "name": "stdout",
     "output_type": "stream",
     "text": [
      "75\n"
     ]
    }
   ],
   "source": [
    "a = 10\n",
    "b = 5\n",
    "\n",
    "c = (a + b) * (a - b)\n",
    "print(c)"
   ]
  },
  {
   "cell_type": "code",
   "execution_count": null,
   "metadata": {},
   "outputs": [],
   "source": []
  }
 ],
 "metadata": {
  "kernelspec": {
   "display_name": "Python 3",
   "language": "python",
   "name": "python3"
  },
  "language_info": {
   "codemirror_mode": {
    "name": "ipython",
    "version": 3
   },
   "file_extension": ".py",
   "mimetype": "text/x-python",
   "name": "python",
   "nbconvert_exporter": "python",
   "pygments_lexer": "ipython3",
   "version": "3.7.6"
  }
 },
 "nbformat": 4,
 "nbformat_minor": 4
}
