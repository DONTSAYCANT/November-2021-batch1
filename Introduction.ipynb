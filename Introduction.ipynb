{
 "cells": [
  {
   "cell_type": "code",
   "execution_count": null,
   "metadata": {},
   "outputs": [],
   "source": [
    "system IDE (Integrated Develeopment Environment) ==> IDLE/pycharm/jupyter \n",
    "https://www.python.org/downloads/\n",
    " \n",
    "\n",
    "Github / Git ==> Version controlled storage\n",
    "https://github.com/\n",
    "Storage + version control + sharing + code checking\n",
    "\n",
    "\n",
    "Hackerrank.com ==> coding platform\n",
    "signup\n",
    "python \n",
    "input output how write code\n",
    "\n",
    "\n",
    "9.45 pm IST - 10.30 pm - 10.45\n",
    "weekday \n",
    "45 to 50 hrs\n",
    "\n",
    "topic and syllabus\n",
    "\n",
    "task ==> 5 to 10 tasks \n",
    "Test (3 test)\n",
    "Project ==> 3 to 6 \n",
    "100-120 pgms\n",
    "\n",
    "\n"
   ]
  },
  {
   "cell_type": "code",
   "execution_count": null,
   "metadata": {},
   "outputs": [],
   "source": [
    "why python is important ? or famous ?\n",
    "Variable\n",
    "datatype\n",
    "data structure\n",
    "operator\n",
    "function\n",
    "keyword\n",
    "inbuilt function\n",
    "library"
   ]
  },
  {
   "cell_type": "code",
   "execution_count": null,
   "metadata": {},
   "outputs": [],
   "source": [
    "#What's programming ?\n",
    "\n",
    "programming ===> automating regular activities \n",
    "\n",
    "#why python is famous\n",
    "\n",
    "High level object oriented ===> java javascript go python\n",
    "Simple to learn  ===> python, \n",
    "platform independent ==> most of the language\n",
    "Web development ==> heml/css/ php as backend, nodejs python with Django Flask framework\n",
    "Large library but simple to use ==> ML DL RL DS / R\n",
    "Testing ===> automation ==> selenium cucc ==> python java\n",
    "RPA \n",
    "Devops \n",
    "Cloudops ==> bogo3\n",
    "\n",
    "\n",
    "#programming terms"
   ]
  },
  {
   "cell_type": "code",
   "execution_count": null,
   "metadata": {},
   "outputs": [],
   "source": [
    "int variable = 10; #c language\n",
    "\n",
    "variable = 10 #python\n",
    "\n",
    "{\n",
    "    \n",
    "    \n",
    "    \n",
    "}\n",
    "\n",
    "Indentation\n",
    "\n",
    "#100 line\n",
    "\n",
    "#60-70 lines\n"
   ]
  },
  {
   "cell_type": "code",
   "execution_count": null,
   "metadata": {},
   "outputs": [],
   "source": [
    "Variable  ===> Storage container for data \n",
    "\n",
    "\n",
    "datatype  ===> Type of data int, float, True False ==> boolean, \"hello\", \"Hai\", \"welcome\", \"python\", complex\n",
    "string ==> \" \" ' ' ===> Global data type\n",
    "\n",
    "data structure ===> storing mechanism for multiple vlaues\n",
    "operator  ==> arithmetic assignment logical operato comparison operator\n",
    "\n",
    "keyword ==> Reserved words \n",
    "https://realpython.com/python-keywords/\n",
    "    \n",
    "    \n",
    "function\n",
    "\n",
    "inbuilt function\n",
    "library"
   ]
  },
  {
   "cell_type": "code",
   "execution_count": 1,
   "metadata": {},
   "outputs": [
    {
     "name": "stdout",
     "output_type": "stream",
     "text": [
      "75\n"
     ]
    }
   ],
   "source": [
    "a = 10\n",
    "b = 5\n",
    "\n",
    "c = (a + b) * (a - b)\n",
    "print(c)"
   ]
  },
  {
   "cell_type": "code",
   "execution_count": null,
   "metadata": {},
   "outputs": [],
   "source": [
    "#Variables\n",
    "\n",
    "#alphabets numbers _  ... dont use special character\n",
    "\n",
    "#It should start with alphabet or _ ... Dont start with number\n",
    "\n",
    "#It should not be reserved words or keywords \n",
    "\n",
    "#It's case senstive\n",
    "\n",
    "#\n",
    "\n"
   ]
  },
  {
   "cell_type": "code",
   "execution_count": 2,
   "metadata": {},
   "outputs": [
    {
     "ename": "SyntaxError",
     "evalue": "invalid syntax (<ipython-input-2-ab6770b9fb40>, line 4)",
     "output_type": "error",
     "traceback": [
      "\u001b[1;36m  File \u001b[1;32m\"<ipython-input-2-ab6770b9fb40>\"\u001b[1;36m, line \u001b[1;32m4\u001b[0m\n\u001b[1;33m    10var = \"python\"\u001b[0m\n\u001b[1;37m        ^\u001b[0m\n\u001b[1;31mSyntaxError\u001b[0m\u001b[1;31m:\u001b[0m invalid syntax\n"
     ]
    }
   ],
   "source": [
    "var10 = 100.01\n",
    "print(var10)\n",
    "\n",
    "10var = \"python\"\n",
    "print(10var)"
   ]
  },
  {
   "cell_type": "code",
   "execution_count": 3,
   "metadata": {},
   "outputs": [
    {
     "name": "stdout",
     "output_type": "stream",
     "text": [
      "10\n",
      "100\n"
     ]
    }
   ],
   "source": [
    "abcd = 10\n",
    "Abcd = 100\n",
    "print(abcd)\n",
    "print(Abcd)"
   ]
  },
  {
   "cell_type": "code",
   "execution_count": null,
   "metadata": {},
   "outputs": [],
   "source": [
    "+\n",
    "-\n",
    "*\n",
    "/\n",
    "//\n",
    "%\n",
    "**"
   ]
  },
  {
   "cell_type": "code",
   "execution_count": null,
   "metadata": {},
   "outputs": [],
   "source": [
    "#\n",
    "\n",
    "print(7//4) #\n",
    "print(9//2) #\n",
    "print(20//7) #\n",
    "print(-7//4)\n",
    "print(-9//2)\n",
    "print(-20//7)\n",
    "\n",
    "\n",
    "print(10%3) #1\n",
    "print(12%5) #2\n",
    "print(10%8) #2\n",
    "print(12%6) #0\n",
    "\n",
    "print(2 ** -4) #\n",
    "print(2 ** 3) #8\n",
    "print(-3 ** 4) #\n",
    "print(-3 ** -5) #\n",
    "\n",
    "\n"
   ]
  },
  {
   "cell_type": "code",
   "execution_count": 4,
   "metadata": {},
   "outputs": [
    {
     "name": "stdout",
     "output_type": "stream",
     "text": [
      "9\n",
      "0.0625\n",
      "8\n",
      "-81\n",
      "-0.00411522633744856\n"
     ]
    }
   ],
   "source": [
    "print(3 ** 2) #===> 3 * 3 # 9\n",
    "\n",
    "print(2 ** -4) #1/16\n",
    "print(2 ** 3) #8\n",
    "print(-3 ** 4) #-3 * -3 * -3 * -3 ==>81\n",
    "print(-3 ** -5) # -243 #-1/243"
   ]
  },
  {
   "cell_type": "code",
   "execution_count": 5,
   "metadata": {},
   "outputs": [
    {
     "name": "stdout",
     "output_type": "stream",
     "text": [
      "-81\n"
     ]
    }
   ],
   "source": [
    "print(-3 ** 4)"
   ]
  },
  {
   "cell_type": "code",
   "execution_count": 6,
   "metadata": {},
   "outputs": [
    {
     "name": "stdout",
     "output_type": "stream",
     "text": [
      "1\n",
      "2\n",
      "2\n",
      "0\n"
     ]
    }
   ],
   "source": [
    "print(10%3) #1\n",
    "print(12%5) #2\n",
    "print(10%8) #2\n",
    "print(12%6) #0"
   ]
  },
  {
   "cell_type": "code",
   "execution_count": 8,
   "metadata": {},
   "outputs": [
    {
     "name": "stdout",
     "output_type": "stream",
     "text": [
      "1\n",
      "4\n",
      "2\n",
      "-2\n",
      "-5\n",
      "-3\n"
     ]
    }
   ],
   "source": [
    "\n",
    "print(7//4) #1\n",
    "print(9//2) #4\n",
    "print(20//7)  #2\n",
    "print(-7//4) #-2\n",
    "print(-9//2) #-5\n",
    "print(-20//7) #-3\n",
    "\n",
    "#Calculate normal divison\n",
    "#1.75\n",
    "\n",
    "#-5 -4 -3 -2 -1 0 1 2 3 4 5"
   ]
  },
  {
   "cell_type": "code",
   "execution_count": null,
   "metadata": {},
   "outputs": [],
   "source": [
    "#keywords:\n",
    "\n",
    "and or not logical operators\n",
    "for while break iteration\n",
    "import importing library\n",
    "\n",
    "control flow if else elif\n",
    "return yield returning \n",
    "True False None\n",
    "\n",
    "\n"
   ]
  },
  {
   "cell_type": "code",
   "execution_count": 9,
   "metadata": {},
   "outputs": [
    {
     "name": "stdout",
     "output_type": "stream",
     "text": [
      "75\n"
     ]
    }
   ],
   "source": [
    "#single line comment / Multiline comment\n",
    "\n",
    "#creation of variable a and b for calculation\n",
    "a = 10\n",
    "b = 5\n",
    "\n",
    "#Folrmula for a2b2 calculatiom\n",
    "c = (a + b) * (a - b)\n",
    "\n",
    "#printing result for test case\n",
    "print(c)\n"
   ]
  },
  {
   "cell_type": "code",
   "execution_count": 11,
   "metadata": {},
   "outputs": [
    {
     "name": "stdout",
     "output_type": "stream",
     "text": [
      "75\n"
     ]
    }
   ],
   "source": [
    "a = 10\n",
    "b = 5\n",
    "\n",
    "\n",
    "#print(\"hello\")\n",
    "#print(\"start of program\")\n",
    "#print(\"hi\")\n",
    "c = (a + b) * (a - b)\n",
    "print(c)"
   ]
  },
  {
   "cell_type": "code",
   "execution_count": 13,
   "metadata": {},
   "outputs": [
    {
     "name": "stdout",
     "output_type": "stream",
     "text": [
      "75\n"
     ]
    }
   ],
   "source": [
    "#multiline comment or doc string\n",
    "\n",
    "\n",
    "'''\n",
    "This is just a comment\n",
    "It will execute during python program actual interpreter execution \n",
    "***********\n",
    "hi\n",
    "hello\n",
    "'''\n",
    "\n",
    "\"\"\"\n",
    "This is just a comment\n",
    "It will execute during python program actual interpreter execution \n",
    "***********\n",
    "hi\n",
    "hello\n",
    "\"\"\"\n",
    "\n",
    "\n",
    "\n",
    "a = 10\n",
    "b = 5\n",
    "\n",
    "c = (a + b) * (a - b)\n",
    "print(c)"
   ]
  },
  {
   "cell_type": "code",
   "execution_count": null,
   "metadata": {},
   "outputs": [],
   "source": []
  }
 ],
 "metadata": {
  "kernelspec": {
   "display_name": "Python 3",
   "language": "python",
   "name": "python3"
  },
  "language_info": {
   "codemirror_mode": {
    "name": "ipython",
    "version": 3
   },
   "file_extension": ".py",
   "mimetype": "text/x-python",
   "name": "python",
   "nbconvert_exporter": "python",
   "pygments_lexer": "ipython3",
   "version": "3.7.6"
  }
 },
 "nbformat": 4,
 "nbformat_minor": 4
}
