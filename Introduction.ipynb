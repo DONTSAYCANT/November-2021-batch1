{
 "cells": [
  {
   "cell_type": "code",
   "execution_count": null,
   "metadata": {},
   "outputs": [],
   "source": [
    "system IDE (Integrated Develeopment Environment) ==> IDLE/pycharm/jupyter \n",
    "https://www.python.org/downloads/\n",
    " \n",
    "\n",
    "Github / Git ==> Version controlled storage\n",
    "https://github.com/\n",
    "Storage + version control + sharing + code checking\n",
    "\n",
    "\n",
    "Hackerrank.com ==> coding platform\n",
    "signup\n",
    "python \n",
    "input output how write code\n",
    "\n",
    "\n",
    "9.45 pm IST - 10.30 pm - 10.45\n",
    "weekday \n",
    "45 to 50 hrs\n",
    "\n",
    "topic and syllabus\n",
    "\n",
    "task ==> 5 to 10 tasks \n",
    "Test (3 test)\n",
    "Project ==> 3 to 6 \n",
    "100-120 pgms\n",
    "\n",
    "\n"
   ]
  },
  {
   "cell_type": "code",
   "execution_count": null,
   "metadata": {},
   "outputs": [],
   "source": [
    "why python is important ? or famous ?\n",
    "Variable\n",
    "datatype\n",
    "data structure\n",
    "operator\n",
    "function\n",
    "keyword\n",
    "inbuilt function\n",
    "library"
   ]
  },
  {
   "cell_type": "code",
   "execution_count": null,
   "metadata": {},
   "outputs": [],
   "source": [
    "#What's programming ?\n",
    "\n",
    "programming ===> automating regular activities \n",
    "\n",
    "#why python is famous\n",
    "\n",
    "High level object oriented ===> java javascript go python\n",
    "Simple to learn  ===> python, \n",
    "platform independent ==> most of the language\n",
    "Web development ==> heml/css/ php as backend, nodejs python with Django Flask framework\n",
    "Large library but simple to use ==> ML DL RL DS / R\n",
    "Testing ===> automation ==> selenium cucc ==> python java\n",
    "RPA \n",
    "Devops \n",
    "Cloudops ==> bogo3\n",
    "\n",
    "\n",
    "#programming terms"
   ]
  },
  {
   "cell_type": "code",
   "execution_count": null,
   "metadata": {},
   "outputs": [],
   "source": [
    "int variable = 10; #c language\n",
    "\n",
    "variable = 10 #python\n",
    "\n",
    "{\n",
    "    \n",
    "    \n",
    "    \n",
    "}\n",
    "\n",
    "Indentation\n",
    "\n",
    "#100 line\n",
    "\n",
    "#60-70 lines\n"
   ]
  },
  {
   "cell_type": "code",
   "execution_count": null,
   "metadata": {},
   "outputs": [],
   "source": [
    "Variable  ===> Storage container for data \n",
    "\n",
    "\n",
    "datatype  ===> Type of data int, float, True False ==> boolean, \"hello\", \"Hai\", \"welcome\", \"python\", complex\n",
    "string ==> \" \" ' ' ===> Global data type\n",
    "\n",
    "data structure ===> storing mechanism for multiple vlaues\n",
    "operator  ==> arithmetic assignment logical operato comparison operator\n",
    "\n",
    "keyword ==> Reserved words \n",
    "https://realpython.com/python-keywords/\n",
    "    \n",
    "    \n",
    "function\n",
    "\n",
    "inbuilt function\n",
    "library"
   ]
  },
  {
   "cell_type": "code",
   "execution_count": 1,
   "metadata": {},
   "outputs": [
    {
     "name": "stdout",
     "output_type": "stream",
     "text": [
      "75\n"
     ]
    }
   ],
   "source": [
    "a = 10\n",
    "b = 5\n",
    "\n",
    "c = (a + b) * (a - b)\n",
    "print(c)"
   ]
  },
  {
   "cell_type": "code",
   "execution_count": null,
   "metadata": {},
   "outputs": [],
   "source": [
    "#Variables\n",
    "\n",
    "#alphabets numbers _  ... dont use special character\n",
    "\n",
    "#It should start with alphabet or _ ... Dont start with number\n",
    "\n",
    "#It should not be reserved words or keywords \n",
    "\n",
    "#It's case senstive\n",
    "\n",
    "#\n",
    "\n"
   ]
  },
  {
   "cell_type": "code",
   "execution_count": 2,
   "metadata": {},
   "outputs": [
    {
     "ename": "SyntaxError",
     "evalue": "invalid syntax (<ipython-input-2-ab6770b9fb40>, line 4)",
     "output_type": "error",
     "traceback": [
      "\u001b[1;36m  File \u001b[1;32m\"<ipython-input-2-ab6770b9fb40>\"\u001b[1;36m, line \u001b[1;32m4\u001b[0m\n\u001b[1;33m    10var = \"python\"\u001b[0m\n\u001b[1;37m        ^\u001b[0m\n\u001b[1;31mSyntaxError\u001b[0m\u001b[1;31m:\u001b[0m invalid syntax\n"
     ]
    }
   ],
   "source": [
    "var10 = 100.01\n",
    "print(var10)\n",
    "\n",
    "10var = \"python\"\n",
    "print(10var)"
   ]
  },
  {
   "cell_type": "code",
   "execution_count": 3,
   "metadata": {},
   "outputs": [
    {
     "name": "stdout",
     "output_type": "stream",
     "text": [
      "10\n",
      "100\n"
     ]
    }
   ],
   "source": [
    "abcd = 10\n",
    "Abcd = 100\n",
    "print(abcd)\n",
    "print(Abcd)"
   ]
  },
  {
   "cell_type": "code",
   "execution_count": null,
   "metadata": {},
   "outputs": [],
   "source": [
    "+\n",
    "-\n",
    "*\n",
    "/\n",
    "//\n",
    "%\n",
    "**"
   ]
  },
  {
   "cell_type": "code",
   "execution_count": null,
   "metadata": {},
   "outputs": [],
   "source": [
    "#\n",
    "\n",
    "print(7//4) #\n",
    "print(9//2) #\n",
    "print(20//7) #\n",
    "print(-7//4)\n",
    "print(-9//2)\n",
    "print(-20//7)\n",
    "\n",
    "\n",
    "print(10%3) #1\n",
    "print(12%5) #2\n",
    "print(10%8) #2\n",
    "print(12%6) #0\n",
    "\n",
    "print(2 ** -4) #\n",
    "print(2 ** 3) #8\n",
    "print(-3 ** 4) #\n",
    "print(-3 ** -5) #\n",
    "\n",
    "\n"
   ]
  },
  {
   "cell_type": "code",
   "execution_count": 4,
   "metadata": {},
   "outputs": [
    {
     "name": "stdout",
     "output_type": "stream",
     "text": [
      "9\n",
      "0.0625\n",
      "8\n",
      "-81\n",
      "-0.00411522633744856\n"
     ]
    }
   ],
   "source": [
    "print(3 ** 2) #===> 3 * 3 # 9\n",
    "\n",
    "print(2 ** -4) #1/16\n",
    "print(2 ** 3) #8\n",
    "print(-3 ** 4) #-3 * -3 * -3 * -3 ==>81\n",
    "print(-3 ** -5) # -243 #-1/243"
   ]
  },
  {
   "cell_type": "code",
   "execution_count": 5,
   "metadata": {},
   "outputs": [
    {
     "name": "stdout",
     "output_type": "stream",
     "text": [
      "-81\n"
     ]
    }
   ],
   "source": [
    "print(-3 ** 4)"
   ]
  },
  {
   "cell_type": "code",
   "execution_count": 6,
   "metadata": {},
   "outputs": [
    {
     "name": "stdout",
     "output_type": "stream",
     "text": [
      "1\n",
      "2\n",
      "2\n",
      "0\n"
     ]
    }
   ],
   "source": [
    "print(10%3) #1\n",
    "print(12%5) #2\n",
    "print(10%8) #2\n",
    "print(12%6) #0"
   ]
  },
  {
   "cell_type": "code",
   "execution_count": 8,
   "metadata": {},
   "outputs": [
    {
     "name": "stdout",
     "output_type": "stream",
     "text": [
      "1\n",
      "4\n",
      "2\n",
      "-2\n",
      "-5\n",
      "-3\n"
     ]
    }
   ],
   "source": [
    "\n",
    "print(7//4) #1\n",
    "print(9//2) #4\n",
    "print(20//7)  #2\n",
    "print(-7//4) #-2\n",
    "print(-9//2) #-5\n",
    "print(-20//7) #-3\n",
    "\n",
    "#Calculate normal divison\n",
    "#1.75\n",
    "\n",
    "#-5 -4 -3 -2 -1 0 1 2 3 4 5"
   ]
  },
  {
   "cell_type": "code",
   "execution_count": null,
   "metadata": {},
   "outputs": [],
   "source": [
    "#keywords:\n",
    "\n",
    "and or not logical operators\n",
    "for while break iteration\n",
    "import importing library\n",
    "\n",
    "control flow if else elif\n",
    "return yield returning \n",
    "True False None\n",
    "\n",
    "\n"
   ]
  },
  {
   "cell_type": "code",
   "execution_count": 9,
   "metadata": {},
   "outputs": [
    {
     "name": "stdout",
     "output_type": "stream",
     "text": [
      "75\n"
     ]
    }
   ],
   "source": [
    "#single line comment / Multiline comment\n",
    "\n",
    "#creation of variable a and b for calculation\n",
    "a = 10\n",
    "b = 5\n",
    "\n",
    "#Folrmula for a2b2 calculatiom\n",
    "c = (a + b) * (a - b)\n",
    "\n",
    "#printing result for test case\n",
    "print(c)\n"
   ]
  },
  {
   "cell_type": "code",
   "execution_count": 11,
   "metadata": {},
   "outputs": [
    {
     "name": "stdout",
     "output_type": "stream",
     "text": [
      "75\n"
     ]
    }
   ],
   "source": [
    "a = 10\n",
    "b = 5\n",
    "\n",
    "\n",
    "#print(\"hello\")\n",
    "#print(\"start of program\")\n",
    "#print(\"hi\")\n",
    "c = (a + b) * (a - b)\n",
    "print(c)"
   ]
  },
  {
   "cell_type": "code",
   "execution_count": 13,
   "metadata": {},
   "outputs": [
    {
     "name": "stdout",
     "output_type": "stream",
     "text": [
      "75\n"
     ]
    }
   ],
   "source": [
    "#multiline comment or doc string\n",
    "\n",
    "\n",
    "'''\n",
    "This is just a comment\n",
    "It will execute during python program actual interpreter execution \n",
    "***********\n",
    "hi\n",
    "hello\n",
    "'''\n",
    "\n",
    "\"\"\"\n",
    "This is just a comment\n",
    "It will execute during python program actual interpreter execution \n",
    "***********\n",
    "hi\n",
    "hello\n",
    "\"\"\"\n",
    "\n",
    "\n",
    "\n",
    "a = 10\n",
    "b = 5\n",
    "\n",
    "c = (a + b) * (a - b)\n",
    "print(c)"
   ]
  },
  {
   "cell_type": "code",
   "execution_count": 2,
   "metadata": {},
   "outputs": [
    {
     "name": "stdout",
     "output_type": "stream",
     "text": [
      "10\n",
      "hello\n",
      "False\n",
      "\n",
      "Hi program\n",
      "\n",
      "i am writing my fisrst [rogema ]\n",
      "\n",
      "\n",
      "jgjk jk g\n",
      "\n",
      "\n",
      "\n"
     ]
    }
   ],
   "source": [
    "#print function\n",
    "\n",
    "#inbuilt function\n",
    "\n",
    "a = 10\n",
    "print(a)\n",
    "print(\"hello\")\n",
    "print(False)\n",
    "\n",
    "print('''\n",
    "Hi program\n",
    "\n",
    "i am writing my fisrst [rogema ]\n",
    "\n",
    "\n",
    "jgjk jk g\n",
    "\n",
    "\n",
    "''')"
   ]
  },
  {
   "cell_type": "code",
   "execution_count": 3,
   "metadata": {},
   "outputs": [
    {
     "name": "stdout",
     "output_type": "stream",
     "text": [
      "hello\n",
      "aim\n",
      "python\n"
     ]
    }
   ],
   "source": [
    "#end sep\n",
    "\n",
    "print(\"hello\")\n",
    "print(\"aim\")\n",
    "print(\"python\")"
   ]
  },
  {
   "cell_type": "code",
   "execution_count": 4,
   "metadata": {},
   "outputs": [
    {
     "name": "stdout",
     "output_type": "stream",
     "text": [
      "hello*aim*python*"
     ]
    }
   ],
   "source": [
    "print(\"hello\", end=\"*\")\n",
    "print(\"aim\", end=\"*\")\n",
    "print(\"python\", end=\"*\")"
   ]
  },
  {
   "cell_type": "code",
   "execution_count": 9,
   "metadata": {},
   "outputs": [
    {
     "name": "stdout",
     "output_type": "stream",
     "text": [
      "hello*welcome*to*python$"
     ]
    }
   ],
   "source": [
    "print(\"hello\",\"welcome\",\"to\",'python',sep=\"*\",end=\"$\")\n"
   ]
  },
  {
   "cell_type": "code",
   "execution_count": 11,
   "metadata": {},
   "outputs": [
    {
     "name": "stdout",
     "output_type": "stream",
     "text": [
      "<class 'str'>\n",
      "<class 'int'>\n",
      "<class 'float'>\n",
      "<class 'str'>\n",
      "<class 'bool'>\n",
      "<class 'bool'>\n",
      "<class 'str'>\n",
      "<class 'str'>\n"
     ]
    }
   ],
   "source": [
    "#type function  ===> inbuilt data type or data strucutre of the arguement\n",
    "\n",
    "a = \"string1\"\n",
    "b = 10\n",
    "c = 10.00001\n",
    "d = \"f\"\n",
    "e = False\n",
    "f = True\n",
    "g = \"false\"\n",
    "h = \"9.999\"\n",
    "\n",
    "\n",
    "print(type(a))\n",
    "print(type(b))\n",
    "print(type(c))\n",
    "print(type(d))\n",
    "print(type(e))\n",
    "print(type(f))\n",
    "print(type(g))\n",
    "print(type(h))"
   ]
  },
  {
   "cell_type": "code",
   "execution_count": 14,
   "metadata": {},
   "outputs": [
    {
     "name": "stdout",
     "output_type": "stream",
     "text": [
      "True\n"
     ]
    }
   ],
   "source": [
    "a = True\n",
    "print(a)"
   ]
  },
  {
   "cell_type": "code",
   "execution_count": 15,
   "metadata": {},
   "outputs": [
    {
     "name": "stdout",
     "output_type": "stream",
     "text": [
      "30\n"
     ]
    }
   ],
   "source": [
    "#len function ===> calculating length of the list or data strucutre\n",
    "\n",
    "a = \"hello_welcome_ to program     \"\n",
    "print(len(a))"
   ]
  },
  {
   "cell_type": "code",
   "execution_count": 16,
   "metadata": {},
   "outputs": [
    {
     "ename": "TypeError",
     "evalue": "object of type 'int' has no len()",
     "output_type": "error",
     "traceback": [
      "\u001b[1;31m---------------------------------------------------------------------------\u001b[0m",
      "\u001b[1;31mTypeError\u001b[0m                                 Traceback (most recent call last)",
      "\u001b[1;32m<ipython-input-16-79d7ec8d0bfa>\u001b[0m in \u001b[0;36m<module>\u001b[1;34m\u001b[0m\n\u001b[0;32m      1\u001b[0m \u001b[0ma\u001b[0m \u001b[1;33m=\u001b[0m \u001b[1;36m10\u001b[0m\u001b[1;33m\u001b[0m\u001b[1;33m\u001b[0m\u001b[0m\n\u001b[1;32m----> 2\u001b[1;33m \u001b[0mprint\u001b[0m\u001b[1;33m(\u001b[0m\u001b[0mlen\u001b[0m\u001b[1;33m(\u001b[0m\u001b[0ma\u001b[0m\u001b[1;33m)\u001b[0m\u001b[1;33m)\u001b[0m\u001b[1;33m\u001b[0m\u001b[1;33m\u001b[0m\u001b[0m\n\u001b[0m",
      "\u001b[1;31mTypeError\u001b[0m: object of type 'int' has no len()"
     ]
    }
   ],
   "source": [
    "a = 10\n",
    "print(len(a))"
   ]
  },
  {
   "cell_type": "code",
   "execution_count": 17,
   "metadata": {},
   "outputs": [
    {
     "name": "stdout",
     "output_type": "stream",
     "text": [
      "-300\n"
     ]
    }
   ],
   "source": [
    "#small program\n",
    "\n",
    "a = 10\n",
    "b = 20\n",
    "\n",
    "c = (a+b) * (a-b)\n",
    "\n",
    "print(c)"
   ]
  },
  {
   "cell_type": "code",
   "execution_count": 20,
   "metadata": {},
   "outputs": [
    {
     "name": "stdout",
     "output_type": "stream",
     "text": [
      "314.0\n",
      "The area of circle is,  314.0\n"
     ]
    }
   ],
   "source": [
    "radius = 10\n",
    "pi = 3.14\n",
    "\n",
    "area_of_circle = pi * radius * radius\n",
    "\n",
    "print(area_of_circle)\n",
    "\n",
    "print(\"The area of circle is, \",area_of_circle)"
   ]
  },
  {
   "cell_type": "code",
   "execution_count": 22,
   "metadata": {},
   "outputs": [
    {
     "name": "stdout",
     "output_type": "stream",
     "text": [
      "314.0\n",
      "The area of circle is,  314.0\n",
      "The area of circle with radius 10 and pi 3.14 is 314.0\n",
      "The area of circle with radius 10 and pi 3.14 is 314.0\n"
     ]
    }
   ],
   "source": [
    "#format method\n",
    "\n",
    "radius = 10\n",
    "pi = 3.14\n",
    "\n",
    "area_of_circle = pi * radius * radius\n",
    "\n",
    "print(area_of_circle)\n",
    "\n",
    "print(\"The area of circle is, \",area_of_circle)\n",
    "\n",
    "print(\"The area of circle with radius {} and pi {} is {}\".format(radius, pi, area_of_circle))\n",
    "\n",
    "print(\"The area of circle with radius {1} and pi {0} is {2}\".format(pi, radius, area_of_circle))"
   ]
  },
  {
   "cell_type": "code",
   "execution_count": 24,
   "metadata": {},
   "outputs": [
    {
     "name": "stdout",
     "output_type": "stream",
     "text": [
      "please enter a valuehell\n",
      "<class 'str'>\n",
      "hell\n"
     ]
    }
   ],
   "source": [
    "#input function\n",
    "\n",
    "#collecting input from user\n",
    "\n",
    "a = input(\"please enter a value\")\n",
    "\n",
    "print(type(a))\n",
    "\n",
    "print(a)\n",
    "\n"
   ]
  },
  {
   "cell_type": "code",
   "execution_count": 27,
   "metadata": {},
   "outputs": [
    {
     "name": "stdout",
     "output_type": "stream",
     "text": [
      "please enter a value10\n",
      "<class 'str'>\n",
      "10\n"
     ]
    }
   ],
   "source": [
    "#input function\n",
    "\n",
    "#collecting input from user\n",
    "\n",
    "a = input(\"please enter a value\")\n",
    "\n",
    "print(type(a))\n",
    "\n",
    "print(a)"
   ]
  },
  {
   "cell_type": "code",
   "execution_count": 28,
   "metadata": {},
   "outputs": [
    {
     "name": "stdout",
     "output_type": "stream",
     "text": [
      "100\n",
      "<class 'str'>\n",
      "100\n"
     ]
    }
   ],
   "source": [
    "a = input()\n",
    "\n",
    "print(type(a))\n",
    "\n",
    "print(a)"
   ]
  },
  {
   "cell_type": "code",
   "execution_count": 29,
   "metadata": {},
   "outputs": [
    {
     "name": "stdout",
     "output_type": "stream",
     "text": [
      "10\n"
     ]
    }
   ],
   "source": [
    "a = 10.009\n",
    "\n",
    "print(int(a))\n",
    "#bool\n",
    "#float\n",
    "#str"
   ]
  },
  {
   "cell_type": "code",
   "execution_count": null,
   "metadata": {},
   "outputs": [],
   "source": []
  }
 ],
 "metadata": {
  "kernelspec": {
   "display_name": "Python 3",
   "language": "python",
   "name": "python3"
  },
  "language_info": {
   "codemirror_mode": {
    "name": "ipython",
    "version": 3
   },
   "file_extension": ".py",
   "mimetype": "text/x-python",
   "name": "python",
   "nbconvert_exporter": "python",
   "pygments_lexer": "ipython3",
   "version": "3.7.6"
  }
 },
 "nbformat": 4,
 "nbformat_minor": 4
}
